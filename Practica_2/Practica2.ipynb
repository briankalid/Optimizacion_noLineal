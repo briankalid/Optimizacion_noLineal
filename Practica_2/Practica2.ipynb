{
  "nbformat": 4,
  "nbformat_minor": 0,
  "metadata": {
    "colab": {
      "name": "Practica2.ipynb",
      "provenance": [],
      "collapsed_sections": []
    },
    "kernelspec": {
      "name": "python3",
      "display_name": "Python 3"
    },
    "language_info": {
      "name": "python"
    }
  },
  "cells": [
    {
      "cell_type": "code",
      "metadata": {
        "id": "67fr8hNsKI9S"
      },
      "source": [
        "from sympy import *\n",
        "from math import e\n",
        "from math import sqrt\n",
        "import matplotlib.pyplot as plt\n",
        "import numpy as np"
      ],
      "execution_count": 1,
      "outputs": []
    },
    {
      "cell_type": "markdown",
      "metadata": {
        "id": "oALUGwYZIviQ"
      },
      "source": [
        "# Funcion a optimizar\n"
      ]
    },
    {
      "cell_type": "markdown",
      "metadata": {
        "id": "IBq6Rc9rI7X5"
      },
      "source": [
        "$$max f(x) = \\frac{0.5}{\\sqrt{1+x^2}} - \\sqrt{1+x^2}(1-\\frac{0.5}{1+x^2}) + x$$"
      ]
    },
    {
      "cell_type": "markdown",
      "metadata": {
        "id": "_kdzx11WI1R8"
      },
      "source": [
        "## Obtenemos la primer y segunda derivada"
      ]
    },
    {
      "cell_type": "code",
      "metadata": {
        "colab": {
          "base_uri": "https://localhost:8080/"
        },
        "id": "pbjzpSYGIO0X",
        "outputId": "7bf7ef76-b041-4f34-f460-048a908ed5e9"
      },
      "source": [
        "x = Symbol('x')\n",
        "\n",
        "formule = '(0.5/sqrt(1+x^2)) - ( sqrt(1+x^2) * (1 - (0.5/(1+x^2))) ) + x'\n",
        "\n",
        "y = sympify(formule)\n",
        "df = y.diff(x)\n",
        "ddf = df.diff(x)\n",
        "\n",
        "print(df)\n",
        "print('\\n',ddf)"
      ],
      "execution_count": 2,
      "outputs": [
        {
          "output_type": "stream",
          "text": [
            "-x*(1 - 0.5/(x**2 + 1))/sqrt(x**2 + 1) - 1.5*x/(x**2 + 1)**(3/2) + 1\n",
            "\n",
            " x**2*(1 - 0.5/(x**2 + 1))/(x**2 + 1)**(3/2) + 3.5*x**2/(x**2 + 1)**(5/2) - (1 - 0.5/(x**2 + 1))/sqrt(x**2 + 1) - 1.5/(x**2 + 1)**(3/2)\n"
          ],
          "name": "stdout"
        }
      ]
    },
    {
      "cell_type": "code",
      "metadata": {
        "id": "-poI91LlIgHt"
      },
      "source": [
        "def f(x,contador):\n",
        "  a= 0.5/sqrt(1+x**2)\n",
        "  b=sqrt(1+x**2)\n",
        "  c=1-(0.5/(1+x**2))\n",
        "\n",
        "  return -(a-(b*c)+x) , contador+1\n",
        "\n",
        "def df(x,contador):\n",
        "  return -(-x*(1 - 0.5/(x**2 + 1))/sqrt(x**2 + 1) - 1.5*x/(x**2 + 1)**(3/2) + 1) , contador+1\n",
        "          \n",
        "def ddf(x,contador):\n",
        "  return -(x**2*(1 - 0.5/(x**2 + 1))/(x**2 + 1)**(3/2) + 3.5*x**2/(x**2 + 1)**(5/2) - (1 - 0.5/(x**2 + 1))/sqrt(x**2 + 1) - 1.5/(x**2 + 1)**(3/2)) , contador+1"
      ],
      "execution_count": 3,
      "outputs": []
    },
    {
      "cell_type": "markdown",
      "metadata": {
        "id": "oMudNDUlN7PK"
      },
      "source": [
        "# Implementaciones"
      ]
    },
    {
      "cell_type": "markdown",
      "metadata": {
        "id": "sxCY97c7N9l3"
      },
      "source": [
        "## Método de las estimaciones cuadráticas sucesivas "
      ]
    },
    {
      "cell_type": "code",
      "metadata": {
        "colab": {
          "base_uri": "https://localhost:8080/"
        },
        "id": "Wo8WJDFpKRgI",
        "outputId": "bff67eab-401b-4140-f420-3aecc1fc64fa"
      },
      "source": [
        "def q(x1,x2,x3,f1,f2,f3):\n",
        "    a0 = f1\n",
        "    a1 = (f2-f1)/(x2-x1)\n",
        "    a2 = (1/(x3-x2)) * ( ((f3-f1)/(x3-x1)) - ((f2-f1)/(x2-x1)) )\n",
        "    \n",
        "    xd = ((x1+x2)/2) - (a1/(2*a2))\n",
        "    \n",
        "    return xd\n",
        "    \n",
        "    \n",
        "\n",
        "contador=0\n",
        "x1,delta,epsilon=[0,0.1,0.0001]\n",
        "x2 = x1+delta\n",
        "\n",
        "f1,contador = f(x1,contador)\n",
        "f2,contador = f(x2,contador)\n",
        "\n",
        "if f1 > f2:\n",
        "    x3 = x1+(2*delta)\n",
        "else:\n",
        "    x3 = x1 - delta\n",
        "    \n",
        "f3,contador = f(x3,contador)\n",
        "\n",
        "\n",
        "\n",
        "aux1,aux2,aux3=sorted([[x1,f1],[x2,f2],[x3,f3]], key=lambda x:x[1])\n",
        "\n",
        "x1,f1 = aux1\n",
        "x2,f2 = aux2\n",
        "x3,f3 = aux3\n",
        "\n",
        "\n",
        "#f_min=min([f1,f2,f3])\n",
        "x_min=x1\n",
        "xb=q(x1,x2,x3,f1,f2,f3)\n",
        "\n",
        "\n",
        "while abs(x_min - xb) > epsilon:\n",
        "\n",
        "    x_min=x1\n",
        "    xb=q(x1,x2,x3,f1,f2,f3)\n",
        "    \n",
        "    fb,contador=f(xb,contador)\n",
        "    \n",
        "    aux1,aux2,aux3,discard=sorted([[x1,f1],[x2,f2],[x3,f3],[xb,fb]], key=lambda x:x[1])\n",
        "\n",
        "    x1,f1 = aux1\n",
        "    x2,f2 = aux2\n",
        "    x3,f3 = aux3\n",
        "    \n",
        "\n",
        "xb=\"{0:.3f}\".format(xb)\n",
        "fb=\"{0:.3f}\".format(-fb)\n",
        "\n",
        "print(f'({xb}, {fb})')\n",
        "print(contador)\n"
      ],
      "execution_count": 4,
      "outputs": [
        {
          "output_type": "stream",
          "text": [
            "(0.786, 0.300)\n",
            "12\n"
          ],
          "name": "stdout"
        }
      ]
    },
    {
      "cell_type": "markdown",
      "metadata": {
        "id": "er87ax6MOHyJ"
      },
      "source": [
        "## Método de Newton - Raphson "
      ]
    },
    {
      "cell_type": "code",
      "metadata": {
        "colab": {
          "base_uri": "https://localhost:8080/"
        },
        "id": "AAynsVfwM9OV",
        "outputId": "286ffda8-8f8a-4153-ac5b-9325060bf3b2"
      },
      "source": [
        "\n",
        "x1,epsilon=[0,0.0001]\n",
        "\n",
        "k=0\n",
        "xs=[x1]\n",
        "\n",
        "\n",
        "contadorf=0\n",
        "f_c,contadorf=df(xs[k],contadorf)\n",
        "xs.append(xs[k] - ( f_c / (ddf(xs[k],0)[0]) ))\n",
        "\n",
        "while abs(f_c)>epsilon:\n",
        "\n",
        "    f_c,contadorf=df(xs[k+1],contadorf)\n",
        "    xs.append(xs[k+1] - ( f_c / (ddf(xs[k+1],0)[0]) ))\n",
        "\n",
        "    k+=1\n",
        "\n",
        "\n",
        "a=\"{0:.3f}\".format(xs[-1])\n",
        "b=\"{0:.3f}\".format(-f(xs[-1],0)[0])\n",
        "print(f'({a},{b})')\n",
        "    \n",
        "print(contadorf)"
      ],
      "execution_count": 5,
      "outputs": [
        {
          "output_type": "stream",
          "text": [
            "(0.786,0.300)\n",
            "6\n"
          ],
          "name": "stdout"
        }
      ]
    },
    {
      "cell_type": "markdown",
      "metadata": {
        "id": "EgF-GBQgWRQt"
      },
      "source": [
        "## Método de Cuasi-Newton "
      ]
    },
    {
      "cell_type": "code",
      "metadata": {
        "colab": {
          "base_uri": "https://localhost:8080/"
        },
        "id": "9QFmPcRdOR__",
        "outputId": "7dbd6f71-b9b5-4d2f-b3ca-11e82a9329f5"
      },
      "source": [
        "def fcn(x):\n",
        "    global contadorfc\n",
        "    contadorfc+=1\n",
        "    a= 0.5/sqrt(1+x**2)\n",
        "    b=sqrt(1+x**2)\n",
        "    c=1-(0.5/(1+x**2))\n",
        "\n",
        "    return -(a-(b*c)+x)\n",
        "\n",
        "\n",
        "def f1cn(x,delta):\n",
        "    fxpd=fcn(x+delta)\n",
        "    fxld=fcn(x-delta)\n",
        "    \n",
        "    a= fxpd - fxld \n",
        "    f_res=a/(2*delta)\n",
        "    return f_res,fxpd,fxld\n",
        "\n",
        "def f2cn(x,delta,fxpd,fxld):\n",
        "    ff=fcn(x)\n",
        "    a=fxpd - 2*ff + fxld\n",
        "    b=delta**2\n",
        "    \n",
        "\n",
        "    return (a/b , ff)\n",
        "    \n",
        "\n",
        "x1,epsilon,delta=[0,0.0001,0.01]\n",
        "\n",
        "k=0\n",
        "xs=[x1]\n",
        "\n",
        "\n",
        "contadorfc=0\n",
        "\n",
        "f_c,fxpd,fxld = f1cn(xs[k],delta)    \n",
        "f_c2,ff=f2cn(xs[k], delta, fxpd, fxld)\n",
        "\n",
        "xs.append(xs[k] - ( f_c / f_c2 ))\n",
        "\n",
        "while abs(f_c)>epsilon:\n",
        "    f_c,fxpd,fxld = f1cn(xs[k+1],delta)\n",
        "    \n",
        "    f_c2,ff = f2cn(xs[k+1], delta, fxpd, fxld)\n",
        "    \n",
        "    xs.append(xs[k+1] - ( f_c / f_c2 ))\n",
        "\n",
        "    k+=1\n",
        "\n",
        "\n",
        "a=\"{0:.3f}\".format(xs[-1])\n",
        "b=\"{0:.3f}\".format(-ff)\n",
        "print(f'({a},{b})')\n",
        "print(contadorfc)"
      ],
      "execution_count": 6,
      "outputs": [
        {
          "output_type": "stream",
          "text": [
            "(0.786,0.300)\n",
            "18\n"
          ],
          "name": "stdout"
        }
      ]
    },
    {
      "cell_type": "markdown",
      "metadata": {
        "id": "5Gu0wcXBXB2H"
      },
      "source": [
        "## Método de Bisección\n"
      ]
    },
    {
      "cell_type": "code",
      "metadata": {
        "colab": {
          "base_uri": "https://localhost:8080/"
        },
        "id": "YI_GCOYIWhVu",
        "outputId": "73baa917-d7cd-4d85-c441-67d70ba1454f"
      },
      "source": [
        "\n",
        "a,b,epsilon=[0,5,0.0001]\n",
        "\n",
        "contador=2\n",
        "if (df(a,0)[0] <= 0) and (df(b,0)[0] >= 0):\n",
        "    while True:\n",
        "        z=(a+b)/2\n",
        "        fc,contador=df(z,contador)\n",
        "        #if abs(fc) > epsilon:\n",
        "        if fc < 0:\n",
        "            a = z\n",
        "        else:\n",
        "            b = z\n",
        "            \n",
        "        if not abs(fc) > epsilon:\n",
        "            break\n",
        "      \n",
        "    \n",
        "    a=\"{0:.3f}\".format(z)\n",
        "    b=\"{0:.3f}\".format(-f(z,0)[0])\n",
        "    print(f'({a},{b})')\n",
        "\n",
        "    print(contador)\n",
        "        \n",
        "else:\n",
        "    print('Error')"
      ],
      "execution_count": 7,
      "outputs": [
        {
          "output_type": "stream",
          "text": [
            "(0.786,0.300)\n",
            "12\n"
          ],
          "name": "stdout"
        }
      ]
    },
    {
      "cell_type": "markdown",
      "metadata": {
        "id": "K7xI3I4AXkLT"
      },
      "source": [
        "## Método de la Secante"
      ]
    },
    {
      "cell_type": "code",
      "metadata": {
        "colab": {
          "base_uri": "https://localhost:8080/"
        },
        "id": "ZoG3zUGFXSmc",
        "outputId": "f086f69c-eea9-47d9-c59c-d72cf7391906"
      },
      "source": [
        "\n",
        "L,R,epsilon=[0,5,0.0001]\n",
        "\n",
        "contador=0\n",
        "first=True\n",
        "\n",
        "fr,contador=df(R,contador)\n",
        "fl,contador=df(L,contador)\n",
        "\n",
        "if fl*fr >= 0:\n",
        "  print('Error')\n",
        "\n",
        "else:\n",
        "    z=R-( (fr*(R-L)) / (fr-fl) )\n",
        "    fz,contador=df(z,contador)\n",
        "    while abs(fz)>epsilon:    \n",
        "\n",
        "        if fz < 0:\n",
        "            L=z\n",
        "            fl=fz\n",
        "\n",
        "        else:\n",
        "            R=z\n",
        "            fr=fz\n",
        "\n",
        "        z=R-( (fr*(R-L)) / (fr-fl) )\n",
        "        fz,contador=df(z,contador)\n",
        "\n",
        "    a=\"{0:.3f}\".format(z)\n",
        "    b=\"{0:.3f}\".format(-f(z,0)[0])\n",
        "    print(f'({a},{b})')\n",
        "    print(contador)\n",
        "    \n"
      ],
      "execution_count": 8,
      "outputs": [
        {
          "output_type": "stream",
          "text": [
            "(0.786,0.300)\n",
            "56\n"
          ],
          "name": "stdout"
        }
      ]
    },
    {
      "cell_type": "markdown",
      "metadata": {
        "id": "M3joBDr8bcFc"
      },
      "source": [
        "# Graficacion"
      ]
    },
    {
      "cell_type": "code",
      "metadata": {
        "id": "gL-Sesu1X3Ww"
      },
      "source": [
        "x = np.arange(0.786-1,0.786+1,0.1)\n",
        "y = [-f(i,0)[0] for i in x]\n",
        "z = [f(i,0)[0] for i in x]"
      ],
      "execution_count": 9,
      "outputs": []
    },
    {
      "cell_type": "code",
      "metadata": {
        "colab": {
          "base_uri": "https://localhost:8080/",
          "height": 279
        },
        "id": "V2CLT-pfcAnX",
        "outputId": "70016c7f-aa64-4641-8034-ec08e6a99d75"
      },
      "source": [
        "plt.plot(x,y,label='Maximizar')\n",
        "plt.plot(x,z,label='Minimizar')\n",
        "plt.xlabel('x')\n",
        "plt.ylabel('y')\n",
        "plt.legend()\n",
        "plt.show()"
      ],
      "execution_count": 10,
      "outputs": [
        {
          "output_type": "display_data",
          "data": {
            "image/png": "[encoded data removed]",
            "text/plain": [
              "<Figure size 432x288 with 1 Axes>"
            ]
          },
          "metadata": {
            "tags": [],
            "needs_background": "light"
          }
        }
      ]
    },
    {
      "cell_type": "markdown",
      "metadata": {
        "id": "xKXmRcUKd74T"
      },
      "source": [
        "#3."
      ]
    },
    {
      "cell_type": "markdown",
      "metadata": {
        "id": "hGkUNR8WiyoK"
      },
      "source": [
        "$$min: g(x) = e^x - x^3$$"
      ]
    },
    {
      "cell_type": "code",
      "metadata": {
        "colab": {
          "base_uri": "https://localhost:8080/"
        },
        "id": "-WNq3TGKeYkH",
        "outputId": "08c034b2-f4da-44ec-d172-597cf88d3a04"
      },
      "source": [
        "x = Symbol('x')\n",
        "formule = '(e^x)-(x^3)'\n",
        "\n",
        "y = sympify(formule)\n",
        "df = y.diff(x)\n",
        "ddf = df.diff(x)\n",
        "\n",
        "print(df)\n",
        "print('\\n',ddf)"
      ],
      "execution_count": 11,
      "outputs": [
        {
          "output_type": "stream",
          "text": [
            "e**x*log(e) - 3*x**2\n",
            "\n",
            " e**x*log(e)**2 - 6*x\n"
          ],
          "name": "stdout"
        }
      ]
    },
    {
      "cell_type": "code",
      "metadata": {
        "id": "R8a6yo76cBFh"
      },
      "source": [
        "\n",
        "def g(x,contador):\n",
        "  return (e**x) - x**3 ,contador+1\n",
        "\n",
        "def dg(x,contador):\n",
        "  return (e**x)*log(e) - 3*x**2, contador+1\n",
        "\n",
        "def ddg(x,contador):\n",
        "  return e**x*log(e)**2 - 6*x ,contador+1"
      ],
      "execution_count": 12,
      "outputs": []
    },
    {
      "cell_type": "markdown",
      "metadata": {
        "id": "V2slZPuagW2k"
      },
      "source": [
        "## Graficamos para determinar nuestro espacio de busqueda"
      ]
    },
    {
      "cell_type": "code",
      "metadata": {
        "id": "oz4lLHhigeVq"
      },
      "source": [
        "x = np.arange(-2,5,0.01)\n",
        "y = [g(i,0)[0] for i in x]"
      ],
      "execution_count": 13,
      "outputs": []
    },
    {
      "cell_type": "code",
      "metadata": {
        "colab": {
          "base_uri": "https://localhost:8080/",
          "height": 279
        },
        "id": "AXznulNsglPX",
        "outputId": "695b0de2-c9ea-4630-d748-3c240a50f576"
      },
      "source": [
        "plt.plot(x,y)\n",
        "plt.xlabel('x')\n",
        "plt.ylabel('y')\n",
        "# plt.legend()\n",
        "plt.show()"
      ],
      "execution_count": 14,
      "outputs": [
        {
          "output_type": "display_data",
          "data": {
            "image/png": "[encoded data removed]",
            "text/plain": [
              "<Figure size 432x288 with 1 Axes>"
            ]
          },
          "metadata": {
            "tags": [],
            "needs_background": "light"
          }
        }
      ]
    },
    {
      "cell_type": "markdown",
      "metadata": {
        "id": "F6WMIg87fA17"
      },
      "source": [
        "## Método de Bisección\n"
      ]
    },
    {
      "cell_type": "code",
      "metadata": {
        "colab": {
          "base_uri": "https://localhost:8080/"
        },
        "id": "axX4iNmueT1u",
        "outputId": "05291b47-dfd2-4564-93e2-b11a5c5530ee"
      },
      "source": [
        "\n",
        "a,b,epsilon=[-5,5,0.0001]\n",
        "\n",
        "contador=2\n",
        "if (dg(a,0)[0] <= 0) and (dg(b,0)[0] >= 0):\n",
        "    while True:\n",
        "        z=(a+b)/2\n",
        "        fc,contador=dg(z,contador)\n",
        "        #if abs(fc) > epsilon:\n",
        "        if fc < 0:\n",
        "            a = z\n",
        "        else:\n",
        "            b = z\n",
        "            \n",
        "        if not abs(fc) > epsilon:\n",
        "            break\n",
        "      \n",
        "    \n",
        "    a=\"{0:.3f}\".format(z)\n",
        "    b=\"{0:.3f}\".format(g(z,0)[0])\n",
        "    print(f'({a},{b})')\n",
        "\n",
        "        \n",
        "    print(contador)\n",
        "        \n",
        "else:\n",
        "    print('Error')"
      ],
      "execution_count": 15,
      "outputs": [
        {
          "output_type": "stream",
          "text": [
            "(-0.459,0.729)\n",
            "12\n"
          ],
          "name": "stdout"
        }
      ]
    },
    {
      "cell_type": "code",
      "metadata": {
        "colab": {
          "base_uri": "https://localhost:8080/"
        },
        "id": "UqSpYZPafF_3",
        "outputId": "079fa8e6-183b-40fb-8f69-d4e15c2edf92"
      },
      "source": [
        "\n",
        "a,b,epsilon=[1,5,0.0001]\n",
        "\n",
        "contador=2\n",
        "if (dg(a,0)[0] <= 0) and (dg(b,0)[0] >= 0):\n",
        "    while True:\n",
        "        z=(a+b)/2\n",
        "        fc,contador=dg(z,contador)\n",
        "        if fc < 0:\n",
        "            a = z\n",
        "        else:\n",
        "            b = z\n",
        "            \n",
        "        if not abs(fc) > epsilon:\n",
        "            break\n",
        "    \n",
        "    a=\"{0:.3f}\".format(z)\n",
        "    b=\"{0:.3f}\".format(g(z,0)[0])\n",
        "    print(f'({a},{b})')\n",
        "\n",
        "    print(contador)\n",
        "        \n",
        "else:\n",
        "    print('Error')"
      ],
      "execution_count": 16,
      "outputs": [
        {
          "output_type": "stream",
          "text": [
            "(3.733,-10.216)\n",
            "20\n"
          ],
          "name": "stdout"
        }
      ]
    },
    {
      "cell_type": "markdown",
      "metadata": {
        "id": "e8dJ7aj4hCO5"
      },
      "source": [
        "Como se ve en los resultados anteriores dependiendo de nuestro espacio de busqueda nos daran minimos diferentes que se ven en la siguiente grafica"
      ]
    },
    {
      "cell_type": "code",
      "metadata": {
        "colab": {
          "base_uri": "https://localhost:8080/",
          "height": 265
        },
        "id": "0872fMqFhAnc",
        "outputId": "bb341c08-99c8-487d-b89d-69f53ab8e0b7"
      },
      "source": [
        "x = np.arange(-2,5,0.01)\n",
        "y = [g(i,0)[0] for i in x]\n",
        "\n",
        "plt.plot(x, y)\n",
        "\n",
        "plt.plot(x,y, -0.459,0.729, \"bo\")\n",
        "plt.plot(x,y, 3.733, -10.216, \"bo\")\n",
        "plt.show()"
      ],
      "execution_count": 17,
      "outputs": [
        {
          "output_type": "display_data",
          "data": {
            "image/png": "[encoded data removed]",
            "text/plain": [
              "<Figure size 432x288 with 1 Axes>"
            ]
          },
          "metadata": {
            "tags": [],
            "needs_background": "light"
          }
        }
      ]
    },
    {
      "cell_type": "code",
      "metadata": {
        "id": "D7gAEX20hfum"
      },
      "source": [
        ""
      ],
      "execution_count": 17,
      "outputs": []
    }
  ]
}