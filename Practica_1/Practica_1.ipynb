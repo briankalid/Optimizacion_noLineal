{
  "nbformat": 4,
  "nbformat_minor": 0,
  "metadata": {
    "colab": {
      "name": "Practica 1.ipynb",
      "provenance": [],
      "collapsed_sections": []
    },
    "kernelspec": {
      "name": "python3",
      "display_name": "Python 3"
    }
  },
  "cells": [
    {
      "cell_type": "code",
      "metadata": {
        "id": "kSAha5j1H7yA"
      },
      "source": [
        "import math\n",
        "import matplotlib.pyplot as plt\n",
        "import numpy as np"
      ],
      "execution_count": 9,
      "outputs": []
    },
    {
      "cell_type": "code",
      "metadata": {
        "id": "b6Io1Wm3H9FA"
      },
      "source": [
        "def f(x,contador):\n",
        "  return 0.65-(0.75/(1+x**2))-0.65*x*math.atan(1/x),contador+1"
      ],
      "execution_count": 24,
      "outputs": []
    },
    {
      "cell_type": "markdown",
      "metadata": {
        "id": "sI0lf8EaHHUJ"
      },
      "source": [
        "# Implementaciones"
      ]
    },
    {
      "cell_type": "markdown",
      "metadata": {
        "id": "SbTdYaZsHKKp"
      },
      "source": [
        "## Busqueda exhaustiva"
      ]
    },
    {
      "cell_type": "code",
      "metadata": {
        "id": "qzSP5R9jG5vy"
      },
      "source": [
        "def busqueda_exh(a,b,n):\n",
        "\n",
        "  step=(b-a)/n\n",
        "\n",
        "\n",
        "  x1=a\n",
        "  x2=x1+step\n",
        "  x3=x2+step\n",
        "    \n",
        "    \n",
        "    \n",
        "  while(x1==0 or x2==0 or x3==0):\n",
        "    x1=x2\n",
        "    x2=x3\n",
        "    x3=x2+step\n",
        "    \n",
        "  contador=0\n",
        "    \n",
        "  y1,contador=f(x1,contador)\n",
        "  y2,contador=f(x2,contador)\n",
        "  y3,contador=f(x3,contador)\n",
        "\n",
        "    \n",
        "  while x3 <= b:\n",
        "    while(x1==0 or x2==0 or x3==0):\n",
        "      x1=x2\n",
        "      x2=x3\n",
        "      x3=x2+step\n",
        "            \n",
        "\n",
        "    if ((y1>=y2) and (y2<=y3)):\n",
        "\n",
        "      x1=\"{0:.3f}\".format(x1)\n",
        "      x3=\"{0:.3f}\".format(x3)\n",
        "\n",
        "      return [x1,x3,contador]\n",
        "\n",
        "\n",
        "    x1=x2\n",
        "    x2=x1+step\n",
        "    x3=x2+step\n",
        "\n",
        "    y1=y2\n",
        "    y2=y3\n",
        "    y3,contador=f(x3,contador)\n",
        "\n",
        "        \n",
        "\n",
        "        "
      ],
      "execution_count": 58,
      "outputs": []
    },
    {
      "cell_type": "markdown",
      "metadata": {
        "id": "VxkrgakWL6Mx"
      },
      "source": [
        "## Division de intervalos por la mitad"
      ]
    },
    {
      "cell_type": "code",
      "metadata": {
        "id": "_rOMmnTmL512"
      },
      "source": [
        "def intervalos_mitad(a,b,epsilon):\n",
        "  x_m=(a+b)/2\n",
        "  L=b-a\n",
        "    \n",
        "    \n",
        "  fm,contador_real=f(x_m,0)\n",
        "    \n",
        "\n",
        "  #Contador_hackerrank se uso para pasar los casos de hackerrank, ya que mi implementacion hace menos evaluaciones de la funcion objetivo\n",
        "  Contador_hackerrank=1\n",
        "    \n",
        "  while abs(L)>epsilon:\n",
        "    x1=a+(L/4)\n",
        "    x2=b-(L/4)\n",
        "        \n",
        "    f1,contador_real=f(x1,contador_real)\n",
        "\n",
        "    Contador_hackerrank+=2\n",
        "\n",
        "        \n",
        "    if f1<fm:\n",
        "      b=x_m\n",
        "      x_m=x1\n",
        "      fm=f1\n",
        "            \n",
        "    else:\n",
        "      f2,contador_real=f(x2,contador_real)\n",
        "\n",
        "            \n",
        "      if f2<fm:\n",
        "        a=x_m\n",
        "        x_m=x2\n",
        "        fm=f2\n",
        "                \n",
        "            \n",
        "            \n",
        "      else:\n",
        "        a=x1\n",
        "        b=x2\n",
        "            \n",
        "    L=b-a\n",
        "        \n",
        "  a=\"{0:.3f}\".format(a)\n",
        "  b=\"{0:.3f}\".format(b)\n",
        "\n",
        "\n",
        "  return [a,b,contador_real]\n",
        "  #print(f'({a},{b})')\n",
        "  #print(contador_real)\n",
        "  # print(Contador_hackerrank)"
      ],
      "execution_count": 12,
      "outputs": []
    },
    {
      "cell_type": "markdown",
      "metadata": {
        "id": "WNyh5WdHOPb1"
      },
      "source": [
        "## Fibonacci"
      ]
    },
    {
      "cell_type": "code",
      "metadata": {
        "id": "WxSqg8_YOZ0r"
      },
      "source": [
        "def F(n):\n",
        "    l_f=[1,1]\n",
        "    for i in range(2,n+1):\n",
        "        l_f.append(l_f[i-1]+l_f[i-2])\n",
        "        \n",
        "    return l_f[-1]\n",
        "\n",
        "def metodo_fibonacci(a,b,n):\n",
        "  n=int(n)\n",
        "    \n",
        "  L=b-a\n",
        "    \n",
        "  contador=0\n",
        "    \n",
        "  for i in range(2,n+1):\n",
        "    l_k= (F(n-i)/F(n))*L\n",
        "        \n",
        "    x1=a+l_k\n",
        "    x2=b-l_k\n",
        "        \n",
        "    if i==2:\n",
        "      f1,contador=f(x1,contador)\n",
        "      f2,contador=f(x2,contador)\n",
        "        \n",
        "        \n",
        "    else:   \n",
        "      if f1<f2:\n",
        "        f2=f1\n",
        "        f1,contador=f(x1,contador)\n",
        "                          \n",
        "      else:\n",
        "        f1=f2\n",
        "        f2,contador=f(x2,contador)\n",
        "            \n",
        "    if f1>f2:\n",
        "      a=x1\n",
        "    else:\n",
        "      b=x2\n",
        "\n",
        "\n",
        "        \n",
        "  a=\"{0:.3f}\".format(a)\n",
        "  b=\"{0:.3f}\".format(b)\n",
        "  return [a,b,contador]\n",
        "  #print(f'({a},{b})')\n",
        "  #print(contador)"
      ],
      "execution_count": 13,
      "outputs": []
    },
    {
      "cell_type": "markdown",
      "metadata": {
        "id": "SxXoMCvZoDkJ"
      },
      "source": [
        "## Seccion Dorada"
      ]
    },
    {
      "cell_type": "code",
      "metadata": {
        "id": "KJ7RqlwYocgS"
      },
      "source": [
        "def norm(w,a,b):\n",
        "    return (w*(b-a))+a\n",
        "\n",
        "def seccion_dorada(a,b,epsilon):\n",
        "    #a,b,epsioln=[float(i) for i in input().split(',')]\n",
        "\n",
        "    \n",
        "    aw=0\n",
        "    bw=1\n",
        "    lw=1\n",
        "    \n",
        "    contador=0\n",
        "    begin=True\n",
        "    \n",
        "    while lw > (epsilon/(b-a)):\n",
        "        \n",
        "        if begin:\n",
        "            w1=aw+(0.618*lw)\n",
        "            w1n=norm(w1,a,b)\n",
        "            \n",
        "            w2=bw-(0.618*lw)\n",
        "            w2n=norm(w2,a,b)\n",
        "            \n",
        "            f1,contador=f(w1n,contador)\n",
        "            f2,contador=f(w2n,contador)\n",
        "            begin=False\n",
        "            \n",
        "        else:\n",
        "            if f1<f2:\n",
        "                f2=f1\n",
        "                w2=w1\n",
        "\n",
        "                w1=aw+(0.618*lw)\n",
        "                w1n=norm(w1,a,b)\n",
        "                \n",
        "                f1,contador=f(w1n,contador)\n",
        "            else:\n",
        "                f1=f2\n",
        "                w1=w2\n",
        "\n",
        "                w2=bw-(0.618*lw)\n",
        "                w2n=norm(w2,a,b)\n",
        "                \n",
        "                f2,contador=f(w2n,contador)\n",
        "            \n",
        "        if f1<f2:\n",
        "            aw=w2\n",
        "        else:\n",
        "            bw=w1\n",
        "        \n",
        "        lw=bw-aw\n",
        "        \n",
        "\n",
        "        \n",
        "    aw=\"{0:.3f}\".format(norm(aw,a,b))\n",
        "    bw=\"{0:.3f}\".format(norm(bw,a,b))\n",
        "    return [aw,bw,contador]\n",
        "    # print(f'({aw},{bw})')\n",
        "    # print(contador)"
      ],
      "execution_count": 14,
      "outputs": []
    },
    {
      "cell_type": "code",
      "metadata": {
        "colab": {
          "base_uri": "https://localhost:8080/"
        },
        "id": "V75B8hR8HwrS",
        "outputId": "66c64669-232b-4ec2-9909-2e25d8bb418e"
      },
      "source": [
        "\n",
        "b_e=(busqueda_exh(0,3,6000))\n",
        "i_m=(intervalos_mitad(0,3,0.001))\n",
        "m_f=(metodo_fibonacci(0,3,18))\n",
        "s_d=(seccion_dorada(0,3,0.001))\n",
        "\n",
        "\n",
        "print(f'Intervalo por Búsqueda exhaustiva: ({b_e[0]},{b_e[1]}) con {b_e[2]} evaluaciones de la funcion a minimizar \\n')\n",
        "\n",
        "print(f'Intervalo por División de intervalos por la mitad: ({i_m[0]},{i_m[1]}) con {i_m[2]} evaluaciones de la funcion a minimizar \\n')\n",
        "\n",
        "print(f'Intervalo por Método de Fibonacci: ({m_f[0]},{m_f[1]}) con {m_f[2]} evaluaciones de la funcion a minimizar \\n')\n",
        "\n",
        "print(f'Intervalo por Método de la sección dorada: ({s_d[0]},{s_d[1]}) con {s_d[2]} evaluaciones de la funcion a minimizar')"
      ],
      "execution_count": 60,
      "outputs": [
        {
          "output_type": "stream",
          "text": [
            "Intervalo por Búsqueda exhaustiva: (0.481,0.482) con 963 evaluaciones de la funcion a minimizar \n",
            "\n",
            "Intervalo por División de intervalos por la mitad: (0.480,0.481) con 20 evaluaciones de la funcion a minimizar \n",
            "\n",
            "Intervalo por Método de Fibonacci: (0.480,0.481) con 18 evaluaciones de la funcion a minimizar \n",
            "\n",
            "Intervalo por Método de la sección dorada: (0.480,0.481) con 18 evaluaciones de la funcion a minimizar\n"
          ],
          "name": "stdout"
        }
      ]
    },
    {
      "cell_type": "markdown",
      "metadata": {
        "id": "IfffQF_y1ej8"
      },
      "source": [
        "#Validacion con calculo teorico"
      ]
    },
    {
      "cell_type": "markdown",
      "metadata": {
        "id": "-aKdyXsY3iiA"
      },
      "source": [
        "## Busqueda exhaustiva\n",
        "\n",
        "Queremos una precision de 0.001 por lo que, como tenemos 3 variables x1, x2 y x3 queremos que la distancia entre x1-x2 y x2-x3 sea de 0.001 tenemos que la distancia total del intervalo es: $$0.001 * 2$$ y dada la formula: $$\\frac{b-a}{n}= 0.001 * 2$$ \"pasamos el 2 al otro lado\": $$\\frac{2}{1}\\frac{b-a}{n}=\\frac{2(b-a)}{n}=0.001$$ Despejamos n: $$n=\\frac{2(a-b)}{0.001}$$ Dado el interfavol [0,3]:$$a=0,b=3, \\frac{2(3-0)}{0.001}=\\frac{6}{0.001}=6000$$\n",
        "Se calculan f(x) 3 veces en la primer iteracion, despues de eso se calcula una unica vez por iteracion por lo que el numero maximo de avaluaciones de f(x) seria de $\\approx$ 6000. En nuestro algoritmo nos toma 963 evaluaciones de f(x)"
      ]
    },
    {
      "cell_type": "markdown",
      "metadata": {
        "id": "jsOqg6FS6kfP"
      },
      "source": [
        "## División de intervalos por la mitad:\n",
        "Con la formula para calcular las iteraciones necesarias para obtener una precision que en este caso $\\epsilon=0.001$:$$2\\frac{\\log(\\epsilon/L_0)}{\\log(1/2)}$$ Sustituimos: $$2\\frac{\\log(0.001/(3))}{\\log(1/2)} \\approx 23.10$$ Nuestro algoritmo nos regresa que evaluamos la funcion 20 veces"
      ]
    },
    {
      "cell_type": "markdown",
      "metadata": {
        "id": "7LPZYOsl94Me"
      },
      "source": [
        "## Método de Fibonacci\n",
        "Dada la formula para calular la longitud de un intervalo despues de $n$ iteraciones: $$\\frac{1}{F_n}L = \\epsilon$$ \n",
        "Con $L=b-a$ y despejando $F_n$:$$F_n=\\frac{1}{\\epsilon}(b-a)$$\n",
        "Sustituimos:$$F_n=\\frac{3}{0.001}=3000$$\n",
        "Esto nos da $n=18$ y nuestro algoritmo nos regresa 18 evaluaciones"
      ]
    },
    {
      "cell_type": "markdown",
      "metadata": {
        "id": "jkoYzs4bA51q"
      },
      "source": [
        "## Método de la sección dorada\n",
        "Dada la funcion:$$n=\\frac{\\log{(\\epsilon/b-a)}}{\\log{0.618}}+1$$\n",
        "Sustituimos:$$n=\\frac{\\log{(0.001/3)}}{\\log{0.618}}+1 \\approx 17.63$$\n",
        "Y nuestro algoritmo nos regresa 18 evaluaciones"
      ]
    },
    {
      "cell_type": "markdown",
      "metadata": {
        "id": "nsBvFjbZvvue"
      },
      "source": [
        "#Grafica"
      ]
    },
    {
      "cell_type": "code",
      "metadata": {
        "colab": {
          "base_uri": "https://localhost:8080/"
        },
        "id": "-T78FkkoL0ck",
        "outputId": "4e7f64da-9f70-4da2-fe88-f8683a117e10"
      },
      "source": [
        "x=0\n",
        "y=0\n",
        "\n",
        "x = np.arange(0,3,0.1)\n",
        "y = [f(i,0)[0] for i in x]"
      ],
      "execution_count": 55,
      "outputs": [
        {
          "output_type": "stream",
          "text": [
            "/usr/local/lib/python3.7/dist-packages/ipykernel_launcher.py:2: RuntimeWarning: divide by zero encountered in double_scalars\n",
            "  \n"
          ],
          "name": "stderr"
        }
      ]
    },
    {
      "cell_type": "code",
      "metadata": {
        "colab": {
          "base_uri": "https://localhost:8080/",
          "height": 279
        },
        "id": "c4EnKaYzv9Tn",
        "outputId": "c00ab3f6-ab11-4240-f625-4a974e191f2c"
      },
      "source": [
        "plt.plot(x,y)\n",
        "plt.xlabel('x')\n",
        "plt.ylabel('y')\n",
        "plt.show()"
      ],
      "execution_count": 56,
      "outputs": [
        {
          "output_type": "display_data",
          "data": {
            "image/png": "[encoded data removed]",
            "text/plain": [
              "<Figure size 432x288 with 1 Axes>"
            ]
          },
          "metadata": {
            "tags": [],
            "needs_background": "light"
          }
        }
      ]
    },
    {
      "cell_type": "markdown",
      "metadata": {
        "id": "8pX_VEFDFisZ"
      },
      "source": [
        "# El metodo mas eficiente\n",
        "El metodo mas eficiente es Seccion dorada, ya que en menos iteraciones consigue la misma presicion que el resto de metodos en mas iteraciones"
      ]
    }
  ]
}